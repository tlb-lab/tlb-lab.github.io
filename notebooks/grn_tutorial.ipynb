{
 "cells": [
  {
   "cell_type": "markdown",
   "id": "sixth-static",
   "metadata": {},
   "source": [
    "# Gene Regulatory Network Tutorial\n",
    "\n",
    "In this tutorial we run through GRN graph construction in Graphein. This works by providing a `gene_list` containing gene names. The interactions between these genes are retrieved from two possible sources:\n",
    "* TRRUST\n",
    "* RegNetwork\n",
    "\n",
    "This is controlled by providing an edge construction function (`add_trrust_edges` and `add_regnetwork_edges`) respectively."
   ]
  },
  {
   "cell_type": "code",
   "execution_count": 1,
   "id": "stupid-billion",
   "metadata": {
    "execution": {
     "iopub.execute_input": "2022-03-04T20:47:19.661929Z",
     "iopub.status.busy": "2022-03-04T20:47:19.660443Z",
     "iopub.status.idle": "2022-03-04T20:47:24.954795Z",
     "shell.execute_reply": "2022-03-04T20:47:24.953510Z"
    }
   },
   "outputs": [
    {
     "name": "stderr",
     "output_type": "stream",
     "text": [
      "INFO:summarizer.preprocessing.cleaner:'pattern' package not found; tag filters are not available for English\n"
     ]
    }
   ],
   "source": [
    "import networkx as nx\n",
    "from functools import partial\n",
    "from typing import List\n",
    "import matplotlib.pyplot as plt\n",
    "\n",
    "import logging\n",
    "logging.basicConfig(level=logging.INFO)\n",
    "from easydev import Logging as elogging\n",
    "elogging.level = \"CRITICAL\"\n",
    "\n",
    "from graphein.grn.edges import add_regnetwork_edges, add_trrust_edges"
   ]
  },
  {
   "cell_type": "markdown",
   "id": "italic-trance",
   "metadata": {},
   "source": [
    "## Config Objects\n",
    "Global parameters are stored in Config objects. We have a global `GRNGraphConfig` that contains a `TRRUSTConfig` and a `RegNetworkConfig` for parameters relating to each of the two sources."
   ]
  },
  {
   "cell_type": "code",
   "execution_count": 2,
   "id": "copyrighted-adjustment",
   "metadata": {
    "execution": {
     "iopub.execute_input": "2022-03-04T20:47:24.963943Z",
     "iopub.status.busy": "2022-03-04T20:47:24.962404Z",
     "iopub.status.idle": "2022-03-04T20:47:24.974974Z",
     "shell.execute_reply": "2022-03-04T20:47:24.976035Z"
    }
   },
   "outputs": [
    {
     "name": "stdout",
     "output_type": "stream",
     "text": [
      "GRN Config: \n",
      "kwargs={} trrust_config=TRRUSTConfig(filtering_functions=None, root_dir=None, kwargs=None) regnetwork_config=RegNetworkConfig(filtering_functions=None, root_dir=None, kwargs=None) \n",
      "\n",
      "TRRUST Config: \n",
      "filtering_functions=None root_dir=None kwargs=None \n",
      "\n",
      "RegNetwork Config: \n",
      "filtering_functions=None root_dir=None kwargs=None\n"
     ]
    }
   ],
   "source": [
    "# Initialise Config Object\n",
    "from graphein.grn.config import GRNGraphConfig\n",
    "config = GRNGraphConfig()\n",
    "print(f\"GRN Config: \\n{config} \\n\")\n",
    "print(f\"TRRUST Config: \\n{config.trrust_config} \\n\")\n",
    "print(f\"RegNetwork Config: \\n{config.regnetwork_config}\")"
   ]
  },
  {
   "cell_type": "markdown",
   "id": "sweet-roller",
   "metadata": {},
   "source": [
    "## Gene List\n",
    "This is the list of genes that we wish to construct a GRN graph for"
   ]
  },
  {
   "cell_type": "code",
   "execution_count": 3,
   "id": "british-discrimination",
   "metadata": {
    "execution": {
     "iopub.execute_input": "2022-03-04T20:47:24.986023Z",
     "iopub.status.busy": "2022-03-04T20:47:24.984170Z",
     "iopub.status.idle": "2022-03-04T20:47:24.987903Z",
     "shell.execute_reply": "2022-03-04T20:47:24.988717Z"
    }
   },
   "outputs": [],
   "source": [
    "gene_list: List[str] = [\"AATF\", \"MYC\", \"USF1\", \"SP1\", \"TP53\", \"DUSP1\"]"
   ]
  },
  {
   "cell_type": "markdown",
   "id": "variable-magic",
   "metadata": {},
   "source": [
    "## Edge Annotation Functions\n",
    "These are functions that determine labelling of edges with additional metadata. Here we define one which assigs:\n",
    "    * `\"+\"` to upregulatory interactions\n",
    "    * `\"-\"` to downregulatory interactions\n",
    "    * `\"?\"` to interactons of unknown directionality\n",
    "    \n",
    "Edge Annotation functions take in two nodes (`u`, `v`) and the edge data (`d`)"
   ]
  },
  {
   "cell_type": "code",
   "execution_count": 4,
   "id": "sixth-contribution",
   "metadata": {
    "execution": {
     "iopub.execute_input": "2022-03-04T20:47:24.998373Z",
     "iopub.status.busy": "2022-03-04T20:47:24.996841Z",
     "iopub.status.idle": "2022-03-04T20:47:25.000431Z",
     "shell.execute_reply": "2022-03-04T20:47:25.001902Z"
    }
   },
   "outputs": [],
   "source": [
    "# This function defines the labelling of regulatory directions\n",
    "def edge_ann_fn(u, v, d):\n",
    "    if \"+\" in d[\"regtype\"]:\n",
    "        d[\"regtype\"] = \"+\"\n",
    "    elif \"-\" in d[\"regtype\"]:\n",
    "        d[\"regtype\"] = \"-\"\n",
    "    elif \"?\" in d[\"regtype\"]:\n",
    "        d[\"regtype\"] = \"?\""
   ]
  },
  {
   "cell_type": "markdown",
   "id": "quality-exercise",
   "metadata": {},
   "source": [
    "## Graph Construction"
   ]
  },
  {
   "cell_type": "code",
   "execution_count": 5,
   "id": "purple-faculty",
   "metadata": {
    "execution": {
     "iopub.execute_input": "2022-03-04T20:47:25.012204Z",
     "iopub.status.busy": "2022-03-04T20:47:25.010837Z",
     "iopub.status.idle": "2022-03-04T20:48:48.060133Z",
     "shell.execute_reply": "2022-03-04T20:48:48.061756Z"
    }
   },
   "outputs": [
    {
     "name": "stderr",
     "output_type": "stream",
     "text": [
      "/Users/arianjamasb/opt/anaconda3/envs/graphein-wip/lib/python3.8/site-packages/pandas/core/generic.py:6619: SettingWithCopyWarning: \n",
      "A value is trying to be set on a copy of a slice from a DataFrame\n",
      "\n",
      "See the caveats in the documentation: https://pandas.pydata.org/pandas-docs/stable/user_guide/indexing.html#returning-a-view-versus-a-copy\n",
      "  return self._update_inplace(result)\n"
     ]
    },
    {
     "name": "stderr",
     "output_type": "stream",
     "text": [
      "WARNING:graphein.grn.parse_regnetwork:RegNetwork is not available. Please check your internet connection or verify at: http://www.regnetworkweb.org\n"
     ]
    },
    {
     "name": "stdout",
     "output_type": "stream",
     "text": [
      "PING regnetworkweb.org (35.171.32.146): 56 data bytes\n",
      "\n",
      "--- regnetworkweb.org ping statistics ---\n",
      "1 packets transmitted, 0 packets received, 100.0% packet loss\n"
     ]
    },
    {
     "name": "stderr",
     "output_type": "stream",
     "text": [
      "/Users/arianjamasb/github/graphein/graphein/grn/parse_regnetwork.py:145: DtypeWarning: Columns (1,3) have mixed types.Specify dtype option on import or set low_memory=False.\n",
      "  df = load_RegNetwork_interactions(root_dir)\n"
     ]
    },
    {
     "name": "stderr",
     "output_type": "stream",
     "text": [
      "/Users/arianjamasb/github/graphein/graphein/grn/parse_regnetwork.py:193: SettingWithCopyWarning: \n",
      "A value is trying to be set on a copy of a slice from a DataFrame.\n",
      "Try using .loc[row_indexer,col_indexer] = value instead\n",
      "\n",
      "See the caveats in the documentation: https://pandas.pydata.org/pandas-docs/stable/user_guide/indexing.html#returning-a-view-versus-a-copy\n",
      "  df[\"source\"] = \"RegNetwork\"\n",
      "/Users/arianjamasb/opt/anaconda3/envs/graphein-wip/lib/python3.8/site-packages/pandas/core/generic.py:6619: SettingWithCopyWarning: \n",
      "A value is trying to be set on a copy of a slice from a DataFrame\n",
      "\n",
      "See the caveats in the documentation: https://pandas.pydata.org/pandas-docs/stable/user_guide/indexing.html#returning-a-view-versus-a-copy\n",
      "  return self._update_inplace(result)\n"
     ]
    }
   ],
   "source": [
    "from graphein.grn.graphs import compute_grn_graph\n",
    "from graphein.grn.features.node_features import add_sequence_to_nodes\n",
    "\n",
    "g = compute_grn_graph(\n",
    "    gene_list=gene_list,\n",
    "    edge_construction_funcs=[\n",
    "        partial(add_trrust_edges, trrust_filtering_funcs=config.trrust_config.filtering_functions),\n",
    "        partial(add_regnetwork_edges, regnetwork_filtering_funcs=config.regnetwork_config.filtering_functions),\n",
    "    ],\n",
    "    node_annotation_funcs=[add_sequence_to_nodes],#, molecular_weight],\n",
    "    edge_annotation_funcs=[edge_ann_fn],\n",
    ")"
   ]
  },
  {
   "cell_type": "code",
   "execution_count": 6,
   "id": "broad-lemon",
   "metadata": {
    "execution": {
     "iopub.execute_input": "2022-03-04T20:48:48.073027Z",
     "iopub.status.busy": "2022-03-04T20:48:48.068904Z",
     "iopub.status.idle": "2022-03-04T20:48:48.079046Z",
     "shell.execute_reply": "2022-03-04T20:48:48.080793Z"
    }
   },
   "outputs": [
    {
     "name": "stdout",
     "output_type": "stream",
     "text": [
      "AATF {'gene_id': 'AATF', 'uniprot_ids': ['Q9NY61'], 'sequence_Q9NY61': 'MAGPQPLALQLEQLLNPRPSEADPEADPEEATAARVIDRFDEGEDGEGDFLVVGSIRKLASASLLDTDKRYCGKTTSRKAWNEDHWEQTLPGSSDEEISDEEGSGDEDSEGLGLEEYDEDDLGAAEEQECGDHRESKKSRSHSAKTPGFSVQSISDFEKFTKGMDDLGSSEEEEDEESGMEEGDDAEDSQGESEEDRAGDRNSEDDGVVMTFSSVKVSEEVEKGRAVKNQIALWDQLLEGRIKLQKALLTTNQLPQPDVFPLFKDKGGPEFSSALKNSHKALKALLRSLVGLQEELLFQYPDTRYLVDGTKPNAGSEEISSEDDELVEEKKQQRRRVPAKRKLEMEDYPSFMAKRFADFTVYRNRTLQKWHDKTKLASGKLGKGFGAFERSILTQIDHILMDKERLLRRTQTKRSVYRVLGKPEPAAQPVPESLPGEPEILPQAPANAHLKDLDEEIFDDDDFYHQLLRELIERKTSSLDPNDQVAMGRQWLAIQKLRSKIHKKVDRKASKGRKLRFHVLSKLLSFMAPIDHTTMNDDARTELYRSLFGQLHPPDEGHGD'}\n",
      "MYC {'gene_id': 'MYC', 'uniprot_ids': ['P01106'], 'sequence_P01106': 'MPLNVSFTNRNYDLDYDSVQPYFYCDEEENFYQQQQQSELQPPAPSEDIWKKFELLPTPPLSPSRRSGLCSPSYVAVTPFSLRGDNDGGGGSFSTADQLEMVTELLGGDMVNQSFICDPDDETFIKNIIIQDCMWSGFSAAAKLVSEKLASYQAARKDSGSPNPARGHSVCSTSSLYLQDLSAAASECIDPSVVFPYPLNDSSSPKSCASQDSSAFSPSSDSLLSSTESSPQGSPEPLVLHEETPPTTSSDSEEEQEDEEEIDVVSVEKRQAPGKRSESGSPSAGGHSKPPHSPLVLKRCHVSTHQHNYAAPPSTRKDYPAAKRVKLDSVRVLRQISNNRKCTSPRSSDTEENVKRRTHNVLERQRRNELKRSFFALRDQIPELENNEKAPKVVILKKATAYILSVQAEEQKLISEEDLLRKRREQLKHKLEQLRNSCA'}\n",
      "USF1 {'gene_id': 'USF1', 'uniprot_ids': ['P22415'], 'sequence_P22415': 'MKGQQKTAETEEGTVQIQEGAVATGEDPTSVAIASIQSAATFPDPNVKYVFRTENGGQVMYRVIQVSEGQLDGQTEGTGAISGYPATQSMTQAVIQGAFTSDDAVDTEGTAAETHYTYFPSTAVGDGAGGTTSGSTAAVVTTQGSEALLGQATPPGTGQFFVMMSPQEVLQGGSQRSIAPRTHPYSPKSEAPRTTRDEKRRAQHNEVERRRRDKINNWIVQLSKIIPDCSMESTKSGQSKGGILSKACDYIQELRQSNHRLSEELQGLDQLQLDNDVLRQQVEDLKNKNLLLRAQLRHHGLEVVIKNDSN'}\n",
      "SP1 {'gene_id': 'SP1', 'uniprot_ids': ['P08047'], 'sequence_P08047': 'MSDQDHSMDEMTAVVKIEKGVGGNNGGNGNGGGAFSQARSSSTGSSSSTGGGGQESQPSPLALLAATCSRIESPNENSNNSQGPSQSGGTGELDLTATQLSQGANGWQIISSSSGATPTSKEQSGSSTNGSNGSESSKNRTVSGGQYVVAAAPNLQNQQVLTGLPGVMPNIQYQVIPQFQTVDGQQLQFAATGAQVQQDGSGQIQIIPGANQQIITNRGSGGNIIAAMPNLLQQAVPLQGLANNVLSGQTQYVTNVPVALNGNITLLPVNSVSAATLTPSSQAVTISSSGSQESGSQPVTSGTTISSASLVSSQASSSSFFTNANSYSTTTTTSNMGIMNFTTSGSSGTNSQGQTPQRVSGLQGSDALNIQQNQTSGGSLQAGQQKEGEQNQQTQQQQILIQPQLVQGGQALQALQAAPLSGQTFTTQAISQETLQNLQLQAVPNSGPIIIRTPTVGPNGQVSWQTLQLQNLQVQNPQAQTITLAPMQGVSLGQTSSSNTTLTPIASAASIPAGTVTVNAAQLSSMPGLQTINLSALGTSGIQVHPIQGLPLAIANAPGDHGAQLGLHGAGGDGIHDDTAGGEEGENSPDAQPQAGRRTRREACTCPYCKDSEGRGSGDPGKKKQHICHIQGCGKVYGKTSHLRAHLRWHTGERPFMCTWSYCGKRFTRSDELQRHKRTHTGEKKFACPECPKRFMRSDHLSKHIKTHQNKKGGPGVALSVGTLPLDSGAGSEGSGTATPSALITTNMVAMEAICPEGIARLANSGINVMQVADLQSINISGNGF'}\n",
      "TP53 {'gene_id': 'TP53', 'uniprot_ids': ['P04637'], 'sequence_P04637': 'MEEPQSDPSVEPPLSQETFSDLWKLLPENNVLSPLPSQAMDDLMLSPDDIEQWFTEDPGPDEAPRMPEAAPPVAPAPAAPTPAAPAPAPSWPLSSSVPSQKTYQGSYGFRLGFLHSGTAKSVTCTYSPALNKMFCQLAKTCPVQLWVDSTPPPGTRVRAMAIYKQSQHMTEVVRRCPHHERCSDSDGLAPPQHLIRVEGNLRVEYLDDRNTFRHSVVVPYEPPEVGSDCTTIHYNYMCNSSCMGGMNRRPILTIITLEDSSGNLLGRNSFEVRVCACPGRDRRTEEENLRKKGEPHHELPPGSTKRALPNNTSSSPQPKKKPLDGEYFTLQIRGRERFEMFRELNEALELKDAQAGKEPGGSRAHSSHLKSKKGQSTSRHKKLMFKTEGPDSD'}\n",
      "DUSP1 {'gene_id': 'DUSP1', 'uniprot_ids': ['P28562'], 'sequence_P28562': 'MVMEVGTLDAGGLRALLGERAAQCLLLDCRSFFAFNAGHIAGSVNVRFSTIVRRRAKGAMGLEHIVPNAELRGRLLAGAYHAVVLLDERSAALDGAKRDGTLALAAGALCREARAAQVFFLKGGYEAFSASCPELCSKQSTPMGLSLPLSTSVPDSAESGCSSCSTPLYDQGGPVEILPFLYLGSAYHASRKDMLDALGITALINVSANCPNHFEGHYQYKSIPVEDNHKADISSWFNEAIDFIDSIKNAGGRVFVHCQAGISRSATICLAYLMRTNRVKLDEAFEFVKQRRSIISPNFSFMGQLLQFESQVLAPHCSAEAGSPAMAVLDRGTSTTTVFNFPVSIPVHSTNSALSYLQSPITTSPSC'}\n"
     ]
    }
   ],
   "source": [
    "for n,d in g.nodes(data=True):\n",
    "    print(n, d)"
   ]
  },
  {
   "cell_type": "markdown",
   "id": "bearing-newton",
   "metadata": {},
   "source": [
    "## Plotting the Graph\n",
    "We now wish to visualise the graph. We can do this with the built in visualisation in NetworkX"
   ]
  },
  {
   "cell_type": "code",
   "execution_count": 7,
   "id": "organizational-teacher",
   "metadata": {
    "execution": {
     "iopub.execute_input": "2022-03-04T20:48:48.143695Z",
     "iopub.status.busy": "2022-03-04T20:48:48.113746Z",
     "iopub.status.idle": "2022-03-04T20:48:48.750036Z",
     "shell.execute_reply": "2022-03-04T20:48:48.751531Z"
    }
   },
   "outputs": [
    {
     "name": "stdout",
     "output_type": "stream",
     "text": [
      "Name: \n",
      "Type: DiGraph\n",
      "Number of nodes: 6\n",
      "Number of edges: 22\n",
      "Average in degree:   3.6667\n",
      "Average out degree:   3.6667\n"
     ]
    },
    {
     "data": {
      "image/png": "[encoded data removed]",
      "text/plain": [
       "<Figure size 432x288 with 1 Axes>"
      ]
     },
     "metadata": {},
     "output_type": "display_data"
    }
   ],
   "source": [
    "# Here we define a colouring scheme for the graph\n",
    "edge_colors = [\n",
    "    \"r\"\n",
    "    if g[u][v][\"kind\"] == {\"trrust\"}\n",
    "    else \"b\"\n",
    "    if g[u][v][\"kind\"] == {\"regnetwork\"}\n",
    "    else \"y\"\n",
    "    for u, v in g.edges()\n",
    "]\n",
    "\n",
    "print(nx.info(g))\n",
    "\n",
    "pos = nx.spring_layout(g)\n",
    "nx.draw(g, pos=pos, with_labels=True, edge_color=edge_colors)\n",
    "edge_labels = {(u, v): g[u][v][\"regtype\"] for u, v in g.edges}\n",
    "nx.draw_networkx_edge_labels(g, pos=pos, edge_labels=edge_labels)\n",
    "plt.show()"
   ]
  },
  {
   "cell_type": "code",
   "execution_count": 8,
   "id": "expected-scholarship",
   "metadata": {
    "execution": {
     "iopub.execute_input": "2022-03-04T20:48:48.761846Z",
     "iopub.status.busy": "2022-03-04T20:48:48.760155Z",
     "iopub.status.idle": "2022-03-04T20:48:48.766902Z",
     "shell.execute_reply": "2022-03-04T20:48:48.768272Z"
    }
   },
   "outputs": [
    {
     "name": "stdout",
     "output_type": "stream",
     "text": [
      "[('AATF', 'MYC', {'kind': {'trrust'}, 'regtype': '+'}), ('AATF', 'TP53', {'kind': {'trrust'}, 'regtype': '?'}), ('AATF', 'SP1', {'kind': {'regnetwork'}, 'regtype': '?'}), ('MYC', 'TP53', {'kind': {'trrust', 'regnetwork'}, 'regtype': '+'}), ('MYC', 'SP1', {'kind': {'regnetwork'}, 'regtype': '?'}), ('MYC', 'DUSP1', {'kind': {'regnetwork'}, 'regtype': '?'}), ('MYC', 'MYC', {'kind': {'regnetwork'}, 'regtype': '?'}), ('USF1', 'DUSP1', {'kind': {'regnetwork'}, 'regtype': '?'}), ('USF1', 'AATF', {'kind': {'regnetwork'}, 'regtype': '?'}), ('USF1', 'TP53', {'kind': {'regnetwork'}, 'regtype': '?'}), ('USF1', 'USF1', {'kind': {'regnetwork'}, 'regtype': '?'}), ('USF1', 'SP1', {'kind': {'regnetwork'}, 'regtype': '?'}), ('SP1', 'MYC', {'kind': {'trrust', 'regnetwork'}, 'regtype': '+'}), ('SP1', 'USF1', {'kind': {'regnetwork'}, 'regtype': '?'}), ('SP1', 'SP1', {'kind': {'regnetwork'}, 'regtype': '?'}), ('SP1', 'DUSP1', {'kind': {'regnetwork'}, 'regtype': '?'}), ('SP1', 'AATF', {'kind': {'regnetwork'}, 'regtype': '?'}), ('SP1', 'TP53', {'kind': {'regnetwork'}, 'regtype': '?'}), ('TP53', 'TP53', {'kind': {'trrust', 'regnetwork'}, 'regtype': '+'}), ('TP53', 'MYC', {'kind': {'trrust', 'regnetwork'}, 'regtype': '-'}), ('TP53', 'DUSP1', {'kind': {'trrust', 'regnetwork'}, 'regtype': '+'}), ('TP53', 'SP1', {'kind': {'regnetwork'}, 'regtype': '?'})]\n"
     ]
    }
   ],
   "source": [
    "print(g.edges(data=True))"
   ]
  }
 ],
 "metadata": {
  "kernelspec": {
   "display_name": "graphein-dev",
   "language": "python",
   "name": "graphein-dev"
  },
  "language_info": {
   "codemirror_mode": {
    "name": "ipython",
    "version": 3
   },
   "file_extension": ".py",
   "mimetype": "text/x-python",
   "name": "python",
   "nbconvert_exporter": "python",
   "pygments_lexer": "ipython3",
   "version": "3.8.12"
  }
 },
 "nbformat": 4,
 "nbformat_minor": 5
}
