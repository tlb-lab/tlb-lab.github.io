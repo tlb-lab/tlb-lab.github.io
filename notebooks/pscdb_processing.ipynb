{
 "cells": [
  {
   "cell_type": "code",
   "execution_count": 1,
   "metadata": {
    "execution": {
     "iopub.execute_input": "2022-03-04T20:53:39.628291Z",
     "iopub.status.busy": "2022-03-04T20:53:39.623235Z",
     "iopub.status.idle": "2022-03-04T20:53:39.640557Z",
     "shell.execute_reply": "2022-03-04T20:53:39.641455Z"
    }
   },
   "outputs": [
    {
     "data": {
      "text/plain": [
       "'Here, we scrape PSCDB (protein Structural Change Database http://idp1.force.cs.is.nagoya-u.ac.jp/pscdb/index.html'"
      ]
     },
     "execution_count": 1,
     "metadata": {},
     "output_type": "execute_result"
    }
   ],
   "source": [
    "\"\"\"Here, we scrape PSCDB (protein Structural Change Database http://idp1.force.cs.is.nagoya-u.ac.jp/pscdb/index.html\"\"\""
   ]
  },
  {
   "cell_type": "code",
   "execution_count": 2,
   "metadata": {
    "execution": {
     "iopub.execute_input": "2022-03-04T20:53:39.649080Z",
     "iopub.status.busy": "2022-03-04T20:53:39.647483Z",
     "iopub.status.idle": "2022-03-04T20:53:42.484313Z",
     "shell.execute_reply": "2022-03-04T20:53:42.490073Z"
    }
   },
   "outputs": [
    {
     "ename": "ModuleNotFoundError",
     "evalue": "No module named 'rdkit'",
     "output_type": "error",
     "traceback": [
      "\u001b[0;31m---------------------------------------------------------------------------\u001b[0m",
      "\u001b[0;31mModuleNotFoundError\u001b[0m                       Traceback (most recent call last)",
      "\u001b[0;32m/var/folders/p1/0qtk6t_520n7k4bvk1p26l_w0000gn/T/ipykernel_80761/520483014.py\u001b[0m in \u001b[0;36m<module>\u001b[0;34m\u001b[0m\n\u001b[1;32m      1\u001b[0m \u001b[0;32mimport\u001b[0m \u001b[0mpandas\u001b[0m \u001b[0;32mas\u001b[0m \u001b[0mpd\u001b[0m\u001b[0;34m\u001b[0m\u001b[0;34m\u001b[0m\u001b[0m\n\u001b[0;32m----> 2\u001b[0;31m \u001b[0;32mimport\u001b[0m \u001b[0mrdkit\u001b[0m\u001b[0;34m\u001b[0m\u001b[0;34m\u001b[0m\u001b[0m\n\u001b[0m\u001b[1;32m      3\u001b[0m \u001b[0;32mfrom\u001b[0m \u001b[0mBio\u001b[0m\u001b[0;34m.\u001b[0m\u001b[0mPDB\u001b[0m \u001b[0;32mimport\u001b[0m \u001b[0;34m*\u001b[0m\u001b[0;34m\u001b[0m\u001b[0;34m\u001b[0m\u001b[0m\n",
      "\u001b[0;31mModuleNotFoundError\u001b[0m: No module named 'rdkit'"
     ]
    }
   ],
   "source": [
    "import pandas as pd\n",
    "import rdkit\n",
    "from Bio.PDB import *"
   ]
  },
  {
   "cell_type": "code",
   "execution_count": 3,
   "metadata": {
    "execution": {
     "iopub.execute_input": "2022-03-04T20:53:42.506854Z",
     "iopub.status.busy": "2022-03-04T20:53:42.505406Z",
     "iopub.status.idle": "2022-03-04T20:53:49.624045Z",
     "shell.execute_reply": "2022-03-04T20:53:49.624949Z"
    },
    "scrolled": true
   },
   "outputs": [
    {
     "name": "stdout",
     "output_type": "stream",
     "text": [
      "     index  PSCID                      Protein Name Free form Bound form  \\\n",
      "0        0   CD.1  HYPOTHETICAL OXIDOREDUCTASE YIAK   1nxu_AB    1s20_AB   \n",
      "1        1   CD.2                  ADENYLATE KINASE    4ake_A     2eck_A   \n",
      "2        2   CD.3                       GLUCOKINASE   1q18_AB    1sz2_AB   \n",
      "3        3   CD.4                       LACTOFERRIN    1lfh_A     1lfi_A   \n",
      "4        4   CD.5               ELONGATION FACTOR 2    1n0v_D     1n0u_A   \n",
      "..     ...    ...                               ...       ...        ...   \n",
      "903     99  B.100   325AA LONG HYPOTHETICAL PROTEIN   2dec_AB    2df8_AB   \n",
      "904    100  B.101                         LIPOCALIN    3bu9_A     3bu1_A   \n",
      "905    101  B.102      AECTYLCITRULLINE DEACETYLASE   2f8h_AA    2f7v_AA   \n",
      "906    102  B.103                 LIPOYLTRANSFERASE    2qht_A     2qhv_A   \n",
      "907    103  B.104      RIBOSE 5-PHOSPHATE ISOMERASE   1uj4_AA    1uj5_AA   \n",
      "\n",
      "         Ligands  Classification(?)            motion_type  \n",
      "0    2xNAD,2xTLA             200004  coupled_domain_motion  \n",
      "1        ADP,AMP             200003  coupled_domain_motion  \n",
      "2          2xBGC             200003  coupled_domain_motion  \n",
      "3     2xCU,2xNAG             110103  coupled_domain_motion  \n",
      "4            SO1             110002  coupled_domain_motion  \n",
      "..           ...                ...                    ...  \n",
      "903        2xF1P                 10           other_motion  \n",
      "904          HSM                 10           other_motion  \n",
      "905         2xCO                 10           other_motion  \n",
      "906          OC9                 10           other_motion  \n",
      "907        2x5RP                 10           other_motion  \n",
      "\n",
      "[908 rows x 8 columns]\n"
     ]
    }
   ],
   "source": [
    "coupled_domain_motion = pd.read_html(\"http://idp1.force.cs.is.nagoya-u.ac.jp/pscdb/cd.html\", header=0)[0]\n",
    "coupled_domain_motion['motion_type'] = 'coupled_domain_motion'\n",
    "\n",
    "independent_domain_motion = pd.read_html(\"http://idp1.force.cs.is.nagoya-u.ac.jp/pscdb/id.html\", header=0)[0]\n",
    "independent_domain_motion['motion_type'] = 'independent_domain_motion'\n",
    "\n",
    "coupled_local_motion = pd.read_html(\"http://idp1.force.cs.is.nagoya-u.ac.jp/pscdb/cl.html\", header=0)[0]\n",
    "coupled_local_motion['motion_type'] = 'coupled_local_motion'\n",
    "\n",
    "independent_local_motion = pd.read_html(\"http://idp1.force.cs.is.nagoya-u.ac.jp/pscdb/il.html\", header=0)[0]\n",
    "independent_local_motion['motion_type'] = 'independent_local_motion'\n",
    "\n",
    "burying_ligand_motion = pd.read_html(\"http://idp1.force.cs.is.nagoya-u.ac.jp/pscdb/b.html\", header=0)[0]\n",
    "burying_ligand_motion['motion_type'] = 'burying_ligand_motion'\n",
    "\n",
    "no_significant_motion = pd.read_html(\"http://idp1.force.cs.is.nagoya-u.ac.jp/pscdb/n.html\", header=0)[0]\n",
    "no_significant_motion['motion_type'] = 'no_significant_motion'\n",
    "\n",
    "other_motion = pd.read_html(\"http://idp1.force.cs.is.nagoya-u.ac.jp/pscdb/b.html\", header=0)[0]\n",
    "other_motion['motion_type'] = 'other_motion'\n",
    "\n",
    "structural_rearrangement_data = pd.concat([coupled_domain_motion, independent_domain_motion,\n",
    "                                           coupled_local_motion, independent_local_motion,\n",
    "                                           burying_ligand_motion, no_significant_motion, other_motion]).reset_index()\n",
    "print(structural_rearrangement_data)"
   ]
  },
  {
   "cell_type": "code",
   "execution_count": 4,
   "metadata": {
    "execution": {
     "iopub.execute_input": "2022-03-04T20:53:49.645171Z",
     "iopub.status.busy": "2022-03-04T20:53:49.643698Z",
     "iopub.status.idle": "2022-03-04T20:53:49.671536Z",
     "shell.execute_reply": "2022-03-04T20:53:49.672301Z"
    }
   },
   "outputs": [
    {
     "name": "stdout",
     "output_type": "stream",
     "text": [
      "     index  PSCID                      Protein Name Free form Bound form  \\\n",
      "0        0   CD.1  HYPOTHETICAL OXIDOREDUCTASE YIAK   1nxu_AB    1s20_AB   \n",
      "1        1   CD.2                  ADENYLATE KINASE    4ake_A     2eck_A   \n",
      "2        2   CD.3                       GLUCOKINASE   1q18_AB    1sz2_AB   \n",
      "3        3   CD.4                       LACTOFERRIN    1lfh_A     1lfi_A   \n",
      "4        4   CD.5               ELONGATION FACTOR 2    1n0v_D     1n0u_A   \n",
      "..     ...    ...                               ...       ...        ...   \n",
      "903     99  B.100   325AA LONG HYPOTHETICAL PROTEIN   2dec_AB    2df8_AB   \n",
      "904    100  B.101                         LIPOCALIN    3bu9_A     3bu1_A   \n",
      "905    101  B.102      AECTYLCITRULLINE DEACETYLASE   2f8h_AA    2f7v_AA   \n",
      "906    102  B.103                 LIPOYLTRANSFERASE    2qht_A     2qhv_A   \n",
      "907    103  B.104      RIBOSE 5-PHOSPHATE ISOMERASE   1uj4_AA    1uj5_AA   \n",
      "\n",
      "         Ligands  Classification(?)            motion_type Free PDB  \\\n",
      "0    2xNAD,2xTLA             200004  coupled_domain_motion     1nxu   \n",
      "1        ADP,AMP             200003  coupled_domain_motion     4ake   \n",
      "2          2xBGC             200003  coupled_domain_motion     1q18   \n",
      "3     2xCU,2xNAG             110103  coupled_domain_motion     1lfh   \n",
      "4            SO1             110002  coupled_domain_motion     1n0v   \n",
      "..           ...                ...                    ...      ...   \n",
      "903        2xF1P                 10           other_motion     2dec   \n",
      "904          HSM                 10           other_motion     3bu9   \n",
      "905         2xCO                 10           other_motion     2f8h   \n",
      "906          OC9                 10           other_motion     2qht   \n",
      "907        2x5RP                 10           other_motion     1uj4   \n",
      "\n",
      "    Free Chains Bound PDB Bound Chains  \n",
      "0            AB      1s20           AB  \n",
      "1             A      2eck            A  \n",
      "2            AB      1sz2           AB  \n",
      "3             A      1lfi            A  \n",
      "4             D      1n0u            A  \n",
      "..          ...       ...          ...  \n",
      "903          AB      2df8           AB  \n",
      "904           A      3bu1            A  \n",
      "905          AA      2f7v           AA  \n",
      "906           A      2qhv            A  \n",
      "907          AA      1uj5           AA  \n",
      "\n",
      "[891 rows x 12 columns]\n"
     ]
    }
   ],
   "source": [
    "# Split into chains\n",
    "free_structures = structural_rearrangement_data['Free form'].str.split('_', expand=True)\n",
    "bound_structures = structural_rearrangement_data['Bound form'].str.split('_', expand=True)\n",
    "\n",
    "# Add columns\n",
    "structural_rearrangement_data['Free PDB'] = free_structures[0]\n",
    "structural_rearrangement_data['Free Chains'] = free_structures[1]\n",
    "structural_rearrangement_data['Bound PDB'] = bound_structures[0]\n",
    "structural_rearrangement_data['Bound Chains'] = bound_structures[1]\n",
    "\n",
    "# Drop obsolete structures\n",
    "obsolete = ['1m80', '1cmw', '1g40', '2ihi', '1hl0', '2gkq', '2glb', '2g2j', '2dpo', '2h98', '2gu9', '2bg1', '1q4o', '1il5', '3cey', '1yks']\n",
    "\n",
    "structural_rearrangement_data = structural_rearrangement_data.loc[~structural_rearrangement_data['Free PDB'].isin(obsolete)]\n",
    "structural_rearrangement_data = structural_rearrangement_data.loc[~structural_rearrangement_data['Bound PDB'].isin(obsolete)]\n",
    "\n",
    "print(structural_rearrangement_data)\n",
    "#structural_rearrangement_data.reset_index(inplace=True)\n",
    "structural_rearrangement_data.to_csv('structural_rearrangement_data.csv')"
   ]
  },
  {
   "cell_type": "code",
   "execution_count": 5,
   "metadata": {
    "execution": {
     "iopub.execute_input": "2022-03-04T20:53:49.679095Z",
     "iopub.status.busy": "2022-03-04T20:53:49.677624Z",
     "iopub.status.idle": "2022-03-04T20:53:49.681117Z",
     "shell.execute_reply": "2022-03-04T20:53:49.682090Z"
    }
   },
   "outputs": [],
   "source": [
    "# Download PDBs"
   ]
  },
  {
   "cell_type": "code",
   "execution_count": 6,
   "metadata": {
    "execution": {
     "iopub.execute_input": "2022-03-04T20:53:49.693411Z",
     "iopub.status.busy": "2022-03-04T20:53:49.691173Z",
     "iopub.status.idle": "2022-03-04T20:53:49.709755Z",
     "shell.execute_reply": "2022-03-04T20:53:49.710632Z"
    },
    "scrolled": true
   },
   "outputs": [
    {
     "ename": "NameError",
     "evalue": "name 'PDBList' is not defined",
     "output_type": "error",
     "traceback": [
      "\u001b[0;31m---------------------------------------------------------------------------\u001b[0m",
      "\u001b[0;31mNameError\u001b[0m                                 Traceback (most recent call last)",
      "\u001b[0;32m/var/folders/p1/0qtk6t_520n7k4bvk1p26l_w0000gn/T/ipykernel_80761/2088957103.py\u001b[0m in \u001b[0;36m<module>\u001b[0;34m\u001b[0m\n\u001b[0;32m----> 1\u001b[0;31m \u001b[0mpdbl\u001b[0m \u001b[0;34m=\u001b[0m \u001b[0mPDBList\u001b[0m\u001b[0;34m(\u001b[0m\u001b[0;34m)\u001b[0m\u001b[0;34m\u001b[0m\u001b[0;34m\u001b[0m\u001b[0m\n\u001b[0m\u001b[1;32m      2\u001b[0m \u001b[0mpdb_list\u001b[0m \u001b[0;34m=\u001b[0m \u001b[0mpd\u001b[0m\u001b[0;34m.\u001b[0m\u001b[0mconcat\u001b[0m\u001b[0;34m(\u001b[0m\u001b[0;34m[\u001b[0m\u001b[0mstructural_rearrangement_data\u001b[0m\u001b[0;34m[\u001b[0m\u001b[0;34m'Free PDB'\u001b[0m\u001b[0;34m]\u001b[0m\u001b[0;34m,\u001b[0m \u001b[0mstructural_rearrangement_data\u001b[0m\u001b[0;34m[\u001b[0m\u001b[0;34m'Bound PDB'\u001b[0m\u001b[0;34m]\u001b[0m\u001b[0;34m]\u001b[0m\u001b[0;34m)\u001b[0m\u001b[0;34m.\u001b[0m\u001b[0munique\u001b[0m\u001b[0;34m(\u001b[0m\u001b[0;34m)\u001b[0m\u001b[0;34m\u001b[0m\u001b[0;34m\u001b[0m\u001b[0m\n\u001b[1;32m      3\u001b[0m \u001b[0;34m\u001b[0m\u001b[0m\n\u001b[1;32m      4\u001b[0m \u001b[0mpdbl\u001b[0m\u001b[0;34m.\u001b[0m\u001b[0mdownload_pdb_files\u001b[0m\u001b[0;34m(\u001b[0m\u001b[0mpdb_list\u001b[0m\u001b[0;34m,\u001b[0m \u001b[0mobsolete\u001b[0m\u001b[0;34m=\u001b[0m\u001b[0;32mFalse\u001b[0m\u001b[0;34m,\u001b[0m \u001b[0mpdir\u001b[0m\u001b[0;34m=\u001b[0m\u001b[0;34m'pdbs/'\u001b[0m\u001b[0;34m,\u001b[0m \u001b[0mfile_format\u001b[0m\u001b[0;34m=\u001b[0m\u001b[0;34m'pdb'\u001b[0m\u001b[0;34m,\u001b[0m \u001b[0moverwrite\u001b[0m\u001b[0;34m=\u001b[0m\u001b[0;32mTrue\u001b[0m\u001b[0;34m)\u001b[0m\u001b[0;34m\u001b[0m\u001b[0;34m\u001b[0m\u001b[0m\n\u001b[1;32m      5\u001b[0m \u001b[0;34m\u001b[0m\u001b[0m\n",
      "\u001b[0;31mNameError\u001b[0m: name 'PDBList' is not defined"
     ]
    }
   ],
   "source": [
    "pdbl = PDBList()\n",
    "pdb_list = pd.concat([structural_rearrangement_data['Free PDB'], structural_rearrangement_data['Bound PDB']]).unique()\n",
    "\n",
    "pdbl.download_pdb_files(pdb_list, obsolete=False, pdir='pdbs/', file_format='pdb', overwrite=True)\n",
    "\n",
    "#Rename PDB files from .ent to .pdb\\n\n",
    "!cd pdbs/; for f in *.ent; do mv -- \"$f\" \"${f%.ent}.pdb\"; done\n",
    "# Remove pdb prefix from PDB file names (e.g. pdb20jj.ent -> 20jj.pdb)\\n\",\n",
    "!cd pdbs/; for x in *; do mv $x `echo $x | cut -c 4-`; done"
   ]
  },
  {
   "cell_type": "code",
   "execution_count": 7,
   "metadata": {
    "execution": {
     "iopub.execute_input": "2022-03-04T20:53:49.716600Z",
     "iopub.status.busy": "2022-03-04T20:53:49.715495Z",
     "iopub.status.idle": "2022-03-04T20:53:49.719031Z",
     "shell.execute_reply": "2022-03-04T20:53:49.719943Z"
    }
   },
   "outputs": [],
   "source": [
    "# Download Ligands"
   ]
  },
  {
   "cell_type": "code",
   "execution_count": 8,
   "metadata": {
    "execution": {
     "iopub.execute_input": "2022-03-04T20:53:49.727028Z",
     "iopub.status.busy": "2022-03-04T20:53:49.725518Z",
     "iopub.status.idle": "2022-03-04T20:53:49.728693Z",
     "shell.execute_reply": "2022-03-04T20:53:49.729558Z"
    }
   },
   "outputs": [],
   "source": [
    "## Make Graphs\n",
    "import os"
   ]
  },
  {
   "cell_type": "code",
   "execution_count": 9,
   "metadata": {
    "execution": {
     "iopub.execute_input": "2022-03-04T20:53:49.739663Z",
     "iopub.status.busy": "2022-03-04T20:53:49.738206Z",
     "iopub.status.idle": "2022-03-04T20:53:49.746984Z",
     "shell.execute_reply": "2022-03-04T20:53:49.745960Z"
    }
   },
   "outputs": [
    {
     "ename": "NameError",
     "evalue": "name 'f' is not defined",
     "output_type": "error",
     "traceback": [
      "\u001b[0;31m---------------------------------------------------------------------------\u001b[0m",
      "\u001b[0;31mNameError\u001b[0m                                 Traceback (most recent call last)",
      "\u001b[0;32m/var/folders/p1/0qtk6t_520n7k4bvk1p26l_w0000gn/T/ipykernel_80761/953584885.py\u001b[0m in \u001b[0;36m<module>\u001b[0;34m\u001b[0m\n\u001b[0;32m----> 1\u001b[0;31m \u001b[0mstructural_rearrangement_data\u001b[0m\u001b[0;34m[\u001b[0m\u001b[0;34m'Free PDB'\u001b[0m\u001b[0;34m]\u001b[0m\u001b[0;34m.\u001b[0m\u001b[0mloc\u001b[0m\u001b[0;34m[\u001b[0m\u001b[0mstructural_rearrangement_data\u001b[0m\u001b[0;34m[\u001b[0m\u001b[0;34m'Free PDB'\u001b[0m\u001b[0;34m]\u001b[0m\u001b[0;34m.\u001b[0m\u001b[0misin\u001b[0m\u001b[0;34m(\u001b[0m\u001b[0mf\u001b[0m\u001b[0;34m)\u001b[0m\u001b[0;34m]\u001b[0m\u001b[0;34m\u001b[0m\u001b[0;34m\u001b[0m\u001b[0m\n\u001b[0m",
      "\u001b[0;31mNameError\u001b[0m: name 'f' is not defined"
     ]
    }
   ],
   "source": [
    "structural_rearrangement_data['Free PDB'].loc[structural_rearrangement_data['Free PDB'].isin(f)]"
   ]
  },
  {
   "cell_type": "code",
   "execution_count": 10,
   "metadata": {
    "execution": {
     "iopub.execute_input": "2022-03-04T20:53:49.758670Z",
     "iopub.status.busy": "2022-03-04T20:53:49.756932Z",
     "iopub.status.idle": "2022-03-04T20:53:49.770229Z",
     "shell.execute_reply": "2022-03-04T20:53:49.771078Z"
    }
   },
   "outputs": [
    {
     "data": {
      "text/plain": [
       "Series([], Name: Free PDB, dtype: object)"
      ]
     },
     "execution_count": 10,
     "metadata": {},
     "output_type": "execute_result"
    }
   ],
   "source": [
    "f = [f[:-4] for f in os.listdir('pdbs')]\n",
    "structural_rearrangement_data['Free PDB'].loc[~structural_rearrangement_data['Bound PDB'].isin(f)]"
   ]
  },
  {
   "cell_type": "code",
   "execution_count": null,
   "metadata": {},
   "outputs": [],
   "source": []
  }
 ],
 "metadata": {
  "kernelspec": {
   "display_name": "Python 3",
   "language": "python",
   "name": "python3"
  },
  "language_info": {
   "codemirror_mode": {
    "name": "ipython",
    "version": 3
   },
   "file_extension": ".py",
   "mimetype": "text/x-python",
   "name": "python",
   "nbconvert_exporter": "python",
   "pygments_lexer": "ipython3",
   "version": "3.8.12"
  }
 },
 "nbformat": 4,
 "nbformat_minor": 4
}
